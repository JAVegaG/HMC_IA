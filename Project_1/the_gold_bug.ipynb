{
  "cells": [
    {
      "cell_type": "markdown",
      "metadata": {
        "id": "view-in-github",
        "colab_type": "text"
      },
      "source": [
        "<a href=\"https://colab.research.google.com/github/JAVegaG/MCT_AI/blob/main/Project_1/the_gold_bug.ipynb\" target=\"_parent\"><img src=\"https://colab.research.google.com/assets/colab-badge.svg\" alt=\"Open In Colab\"/></a>"
      ]
    },
    {
      "cell_type": "markdown",
      "metadata": {
        "id": "Ez7JibpS25Dy"
      },
      "source": [
        "# Web Scrapping - Parcial 01 - Python 101"
      ]
    },
    {
      "cell_type": "markdown",
      "source": [
        "## Web Data Manipulation"
      ],
      "metadata": {
        "id": "xEONGZFQtCHo"
      }
    },
    {
      "cell_type": "code",
      "execution_count": 1,
      "metadata": {
        "id": "Jx5yu-mCz6FM"
      },
      "outputs": [],
      "source": [
        "import re\n",
        "import matplotlib\n",
        "import numpy as np\n",
        "import pandas as pd\n",
        "import urllib.request\n",
        "from bs4 import BeautifulSoup\n",
        "import matplotlib.pyplot as plt"
      ]
    },
    {
      "cell_type": "code",
      "source": [
        "%matplotlib inline"
      ],
      "metadata": {
        "id": "nLr5_P2TZcVb"
      },
      "execution_count": 2,
      "outputs": []
    },
    {
      "cell_type": "code",
      "execution_count": 3,
      "metadata": {
        "id": "CAM3G6nj09f_"
      },
      "outputs": [],
      "source": [
        "url = 'https://poestories.com/read/goldbug'\n",
        "The_Gold_Bug_Raw = urllib.request.urlopen(url)\n",
        "The_Gold_Bug_Html = The_Gold_Bug_Raw.read().decode('utf-8')\n",
        "soup = BeautifulSoup(The_Gold_Bug_Html, 'html.parser')"
      ]
    },
    {
      "cell_type": "code",
      "execution_count": 4,
      "metadata": {
        "id": "mpfPq5qEBWeI"
      },
      "outputs": [],
      "source": [
        "The_Gold_Bug = soup.get_text()"
      ]
    },
    {
      "cell_type": "code",
      "execution_count": 5,
      "metadata": {
        "id": "fXFXbLLULGm7"
      },
      "outputs": [],
      "source": [
        "pattern = '\\n'\n",
        "The_Gold_Bug = re.sub(pattern, 'ñññ', The_Gold_Bug)"
      ]
    },
    {
      "cell_type": "code",
      "execution_count": 6,
      "metadata": {
        "id": "lD7c96oC5UKn"
      },
      "outputs": [],
      "source": [
        "pattern = '\\xa0'\n",
        "The_Gold_Bug = re.sub(pattern, ' ', The_Gold_Bug)"
      ]
    },
    {
      "cell_type": "code",
      "execution_count": 7,
      "metadata": {
        "id": "rik2f6lePfzP"
      },
      "outputs": [],
      "source": [
        "pattern = 'Menu.*?;|Print Version'\n",
        "The_Gold_Bug_Clean = re.sub(pattern,'',The_Gold_Bug)"
      ]
    },
    {
      "cell_type": "code",
      "execution_count": 8,
      "metadata": {
        "id": "kcfe2Po3QWDB"
      },
      "outputs": [],
      "source": [
        "pattern = '.?adsbygoogle.*?scrollbars|NOTES.*?post.'\n",
        "The_Gold_Bug_Clean = re.sub(pattern, '', The_Gold_Bug_Clean)"
      ]
    },
    {
      "cell_type": "code",
      "source": [
        "pattern = 'ñ{3,100}'\n",
        "The_Gold_Bug_Clean = re.sub(pattern,'\\n',The_Gold_Bug_Clean)"
      ],
      "metadata": {
        "id": "Ge32utyt7lbW"
      },
      "execution_count": 9,
      "outputs": []
    },
    {
      "cell_type": "code",
      "source": [
        "with open('The_Gold_Bug.txt', 'w') as external_file:\n",
        "    print(The_Gold_Bug_Clean, file=external_file)\n",
        "    external_file.close()"
      ],
      "metadata": {
        "id": "lxgvtfLrOESV"
      },
      "execution_count": 10,
      "outputs": []
    },
    {
      "cell_type": "code",
      "source": [
        "pattern = 'ñ{3,100}.*?The.*?the goat:|NOTES.*?scrollbars.'\n",
        "The_Gold_Bug = re.sub(pattern,'',The_Gold_Bug)"
      ],
      "metadata": {
        "id": "_hZXWZQ_muAK"
      },
      "execution_count": 11,
      "outputs": []
    },
    {
      "cell_type": "code",
      "source": [
        "pattern = 'ñ{3,100}'\n",
        "The_Gold_Bug_Code = re.sub(pattern,'\\n',The_Gold_Bug)\n",
        "print(The_Gold_Bug_Code)"
      ],
      "metadata": {
        "colab": {
          "base_uri": "https://localhost:8080/"
        },
        "id": "m0zLap7urFhD",
        "outputId": "56121aed-b3a9-488b-e4b8-b031d715fdd8"
      },
      "execution_count": 12,
      "outputs": [
        {
          "output_type": "stream",
          "name": "stdout",
          "text": [
            " \n",
            "53‡‡†305))6*;4826)4‡.)4‡);80\n",
            "6*;48†8¶60))85;1‡(;:‡*8†83(88)\n",
            "5*†;46(;88*96*?;8)*‡(;485);5*†\n",
            "2:*‡(;4956*2(5*-4)8¶8*;40692\n",
            "85);)6†8)4‡‡;1(‡9;48081;8:8‡1\n",
            ";48†85;4)485†528806*81(‡9;48\n",
            ";(88;4(‡?34;48)4‡;161;:188;‡?;\n",
            "\n"
          ]
        }
      ]
    },
    {
      "cell_type": "code",
      "source": [
        "with open('The_Gold_Bug_Code.txt', 'w') as external_file:\n",
        "    print(The_Gold_Bug_Code, file=external_file)\n",
        "    external_file.close()"
      ],
      "metadata": {
        "id": "lzBDEtEhEeEb"
      },
      "execution_count": 13,
      "outputs": []
    },
    {
      "cell_type": "code",
      "source": [
        "pattern = '\\)'\n",
        "The_Gold_Bug_Code_Fix = re.sub(pattern,'>',The_Gold_Bug_Code)\n",
        "\n",
        "pattern = '\\('\n",
        "The_Gold_Bug_Code_Fix = re.sub(pattern,'<',The_Gold_Bug_Code_Fix)\n",
        "\n",
        "pattern = '\\.'\n",
        "The_Gold_Bug_Code_Fix = re.sub(pattern,'°',The_Gold_Bug_Code_Fix)\n",
        "\n",
        "pattern = '\\?'\n",
        "The_Gold_Bug_Code_Fix = re.sub(pattern,'~',The_Gold_Bug_Code_Fix)\n",
        "\n",
        "pattern = '\\*'\n",
        "The_Gold_Bug_Code_Fix = re.sub(pattern,'¿',The_Gold_Bug_Code_Fix)\n",
        "\n",
        "pattern = ' '\n",
        "secretCode = re.sub(pattern,'',The_Gold_Bug_Code_Fix)\n",
        "\n",
        "print(secretCode)"
      ],
      "metadata": {
        "colab": {
          "base_uri": "https://localhost:8080/"
        },
        "id": "RbyaPFpB87FS",
        "outputId": "80e63173-e5da-470c-a62a-6fe9e981be30"
      },
      "execution_count": 14,
      "outputs": [
        {
          "output_type": "stream",
          "name": "stdout",
          "text": [
            "\n",
            "53‡‡†305>>6¿;4826>4‡°>4‡>;80\n",
            "6¿;48†8¶60>>85;1‡<;:‡¿8†83<88>\n",
            "5¿†;46<;88¿96¿~;8>¿‡<;485>;5¿†\n",
            "2:¿‡<;4956¿2<5¿-4>8¶8¿;40692\n",
            "85>;>6†8>4‡‡;1<‡9;48081;8:8‡1\n",
            ";48†85;4>485†528806¿81<‡9;48\n",
            ";<88;4<‡~34;48>4‡;161;:188;‡~;\n",
            "\n"
          ]
        }
      ]
    },
    {
      "cell_type": "code",
      "source": [
        "symbols = set()\n",
        "for bug in secretCode:\n",
        "  if (bug != ' ') & (bug != '\\n'):\n",
        "    symbols.add(bug)\n",
        "  else:\n",
        "    print('Removing unneccessary symbols')\n",
        "\n",
        "print(symbols)"
      ],
      "metadata": {
        "colab": {
          "base_uri": "https://localhost:8080/"
        },
        "id": "X888yQ_LwBI2",
        "outputId": "80d9f53c-62df-4dd2-9772-beb6fa8754ca"
      },
      "execution_count": 15,
      "outputs": [
        {
          "output_type": "stream",
          "name": "stdout",
          "text": [
            "Removing unneccessary symbols\n",
            "Removing unneccessary symbols\n",
            "Removing unneccessary symbols\n",
            "Removing unneccessary symbols\n",
            "Removing unneccessary symbols\n",
            "Removing unneccessary symbols\n",
            "Removing unneccessary symbols\n",
            "Removing unneccessary symbols\n",
            "{':', '~', '<', '8', '0', '3', '¿', '†', '4', '9', '>', '‡', ';', '6', '1', '-', '¶', '2', '°', '5'}\n"
          ]
        }
      ]
    },
    {
      "cell_type": "code",
      "source": [
        "freq_list = []\n",
        "symbols_list = []\n",
        "\n",
        "max_symbols = 0\n",
        "\n",
        "for symbol in symbols:\n",
        "\n",
        "  max_symbols += len(re.findall(symbol, secretCode))\n",
        "  freq_list.append(len(re.findall(symbol, secretCode)))\n",
        "  symbols_list.append(symbol)\n",
        "\n",
        "  \"\"\"\n",
        "  dictionary['freq({0})'.format(symbol)] = len(re.findall(symbol,\n",
        "                                                         secretCode))\n",
        "  \"\"\"\n",
        "\n",
        "code_dictionary = {'Symbol' : symbols_list, 'Frequency' : freq_list}"
      ],
      "metadata": {
        "id": "Hwogc7Ey0y6N"
      },
      "execution_count": 16,
      "outputs": []
    },
    {
      "cell_type": "code",
      "source": [
        "code_df = pd.DataFrame(code_dictionary)"
      ],
      "metadata": {
        "id": "gUIKvXF-Kv-q"
      },
      "execution_count": 17,
      "outputs": []
    },
    {
      "cell_type": "code",
      "source": [
        "code_sorted_df = code_df.sort_values('Frequency',ascending=False)\n",
        "code_sorted_df"
      ],
      "metadata": {
        "colab": {
          "base_uri": "https://localhost:8080/",
          "height": 677
        },
        "id": "RbsUZUHyRVBZ",
        "outputId": "6fa841d3-12c5-4694-d121-563c17b24859"
      },
      "execution_count": 18,
      "outputs": [
        {
          "output_type": "execute_result",
          "data": {
            "text/plain": [
              "   Symbol  Frequency\n",
              "3       8         33\n",
              "12      ;         26\n",
              "8       4         19\n",
              "10      >         16\n",
              "11      ‡         16\n",
              "6       ¿         13\n",
              "19      5         12\n",
              "13      6         11\n",
              "2       <         10\n",
              "7       †          8\n",
              "14      1          8\n",
              "4       0          6\n",
              "9       9          5\n",
              "17      2          5\n",
              "5       3          4\n",
              "0       :          4\n",
              "1       ~          3\n",
              "16      ¶          2\n",
              "15      -          1\n",
              "18      °          1"
            ],
            "text/html": [
              "\n",
              "  <div id=\"df-6107a339-b8e7-4edd-b3ea-cf77017804e6\">\n",
              "    <div class=\"colab-df-container\">\n",
              "      <div>\n",
              "<style scoped>\n",
              "    .dataframe tbody tr th:only-of-type {\n",
              "        vertical-align: middle;\n",
              "    }\n",
              "\n",
              "    .dataframe tbody tr th {\n",
              "        vertical-align: top;\n",
              "    }\n",
              "\n",
              "    .dataframe thead th {\n",
              "        text-align: right;\n",
              "    }\n",
              "</style>\n",
              "<table border=\"1\" class=\"dataframe\">\n",
              "  <thead>\n",
              "    <tr style=\"text-align: right;\">\n",
              "      <th></th>\n",
              "      <th>Symbol</th>\n",
              "      <th>Frequency</th>\n",
              "    </tr>\n",
              "  </thead>\n",
              "  <tbody>\n",
              "    <tr>\n",
              "      <th>3</th>\n",
              "      <td>8</td>\n",
              "      <td>33</td>\n",
              "    </tr>\n",
              "    <tr>\n",
              "      <th>12</th>\n",
              "      <td>;</td>\n",
              "      <td>26</td>\n",
              "    </tr>\n",
              "    <tr>\n",
              "      <th>8</th>\n",
              "      <td>4</td>\n",
              "      <td>19</td>\n",
              "    </tr>\n",
              "    <tr>\n",
              "      <th>10</th>\n",
              "      <td>&gt;</td>\n",
              "      <td>16</td>\n",
              "    </tr>\n",
              "    <tr>\n",
              "      <th>11</th>\n",
              "      <td>‡</td>\n",
              "      <td>16</td>\n",
              "    </tr>\n",
              "    <tr>\n",
              "      <th>6</th>\n",
              "      <td>¿</td>\n",
              "      <td>13</td>\n",
              "    </tr>\n",
              "    <tr>\n",
              "      <th>19</th>\n",
              "      <td>5</td>\n",
              "      <td>12</td>\n",
              "    </tr>\n",
              "    <tr>\n",
              "      <th>13</th>\n",
              "      <td>6</td>\n",
              "      <td>11</td>\n",
              "    </tr>\n",
              "    <tr>\n",
              "      <th>2</th>\n",
              "      <td>&lt;</td>\n",
              "      <td>10</td>\n",
              "    </tr>\n",
              "    <tr>\n",
              "      <th>7</th>\n",
              "      <td>†</td>\n",
              "      <td>8</td>\n",
              "    </tr>\n",
              "    <tr>\n",
              "      <th>14</th>\n",
              "      <td>1</td>\n",
              "      <td>8</td>\n",
              "    </tr>\n",
              "    <tr>\n",
              "      <th>4</th>\n",
              "      <td>0</td>\n",
              "      <td>6</td>\n",
              "    </tr>\n",
              "    <tr>\n",
              "      <th>9</th>\n",
              "      <td>9</td>\n",
              "      <td>5</td>\n",
              "    </tr>\n",
              "    <tr>\n",
              "      <th>17</th>\n",
              "      <td>2</td>\n",
              "      <td>5</td>\n",
              "    </tr>\n",
              "    <tr>\n",
              "      <th>5</th>\n",
              "      <td>3</td>\n",
              "      <td>4</td>\n",
              "    </tr>\n",
              "    <tr>\n",
              "      <th>0</th>\n",
              "      <td>:</td>\n",
              "      <td>4</td>\n",
              "    </tr>\n",
              "    <tr>\n",
              "      <th>1</th>\n",
              "      <td>~</td>\n",
              "      <td>3</td>\n",
              "    </tr>\n",
              "    <tr>\n",
              "      <th>16</th>\n",
              "      <td>¶</td>\n",
              "      <td>2</td>\n",
              "    </tr>\n",
              "    <tr>\n",
              "      <th>15</th>\n",
              "      <td>-</td>\n",
              "      <td>1</td>\n",
              "    </tr>\n",
              "    <tr>\n",
              "      <th>18</th>\n",
              "      <td>°</td>\n",
              "      <td>1</td>\n",
              "    </tr>\n",
              "  </tbody>\n",
              "</table>\n",
              "</div>\n",
              "      <button class=\"colab-df-convert\" onclick=\"convertToInteractive('df-6107a339-b8e7-4edd-b3ea-cf77017804e6')\"\n",
              "              title=\"Convert this dataframe to an interactive table.\"\n",
              "              style=\"display:none;\">\n",
              "        \n",
              "  <svg xmlns=\"http://www.w3.org/2000/svg\" height=\"24px\"viewBox=\"0 0 24 24\"\n",
              "       width=\"24px\">\n",
              "    <path d=\"M0 0h24v24H0V0z\" fill=\"none\"/>\n",
              "    <path d=\"M18.56 5.44l.94 2.06.94-2.06 2.06-.94-2.06-.94-.94-2.06-.94 2.06-2.06.94zm-11 1L8.5 8.5l.94-2.06 2.06-.94-2.06-.94L8.5 2.5l-.94 2.06-2.06.94zm10 10l.94 2.06.94-2.06 2.06-.94-2.06-.94-.94-2.06-.94 2.06-2.06.94z\"/><path d=\"M17.41 7.96l-1.37-1.37c-.4-.4-.92-.59-1.43-.59-.52 0-1.04.2-1.43.59L10.3 9.45l-7.72 7.72c-.78.78-.78 2.05 0 2.83L4 21.41c.39.39.9.59 1.41.59.51 0 1.02-.2 1.41-.59l7.78-7.78 2.81-2.81c.8-.78.8-2.07 0-2.86zM5.41 20L4 18.59l7.72-7.72 1.47 1.35L5.41 20z\"/>\n",
              "  </svg>\n",
              "      </button>\n",
              "      \n",
              "  <style>\n",
              "    .colab-df-container {\n",
              "      display:flex;\n",
              "      flex-wrap:wrap;\n",
              "      gap: 12px;\n",
              "    }\n",
              "\n",
              "    .colab-df-convert {\n",
              "      background-color: #E8F0FE;\n",
              "      border: none;\n",
              "      border-radius: 50%;\n",
              "      cursor: pointer;\n",
              "      display: none;\n",
              "      fill: #1967D2;\n",
              "      height: 32px;\n",
              "      padding: 0 0 0 0;\n",
              "      width: 32px;\n",
              "    }\n",
              "\n",
              "    .colab-df-convert:hover {\n",
              "      background-color: #E2EBFA;\n",
              "      box-shadow: 0px 1px 2px rgba(60, 64, 67, 0.3), 0px 1px 3px 1px rgba(60, 64, 67, 0.15);\n",
              "      fill: #174EA6;\n",
              "    }\n",
              "\n",
              "    [theme=dark] .colab-df-convert {\n",
              "      background-color: #3B4455;\n",
              "      fill: #D2E3FC;\n",
              "    }\n",
              "\n",
              "    [theme=dark] .colab-df-convert:hover {\n",
              "      background-color: #434B5C;\n",
              "      box-shadow: 0px 1px 3px 1px rgba(0, 0, 0, 0.15);\n",
              "      filter: drop-shadow(0px 1px 2px rgba(0, 0, 0, 0.3));\n",
              "      fill: #FFFFFF;\n",
              "    }\n",
              "  </style>\n",
              "\n",
              "      <script>\n",
              "        const buttonEl =\n",
              "          document.querySelector('#df-6107a339-b8e7-4edd-b3ea-cf77017804e6 button.colab-df-convert');\n",
              "        buttonEl.style.display =\n",
              "          google.colab.kernel.accessAllowed ? 'block' : 'none';\n",
              "\n",
              "        async function convertToInteractive(key) {\n",
              "          const element = document.querySelector('#df-6107a339-b8e7-4edd-b3ea-cf77017804e6');\n",
              "          const dataTable =\n",
              "            await google.colab.kernel.invokeFunction('convertToInteractive',\n",
              "                                                     [key], {});\n",
              "          if (!dataTable) return;\n",
              "\n",
              "          const docLinkHtml = 'Like what you see? Visit the ' +\n",
              "            '<a target=\"_blank\" href=https://colab.research.google.com/notebooks/data_table.ipynb>data table notebook</a>'\n",
              "            + ' to learn more about interactive tables.';\n",
              "          element.innerHTML = '';\n",
              "          dataTable['output_type'] = 'display_data';\n",
              "          await google.colab.output.renderOutput(dataTable, element);\n",
              "          const docLink = document.createElement('div');\n",
              "          docLink.innerHTML = docLinkHtml;\n",
              "          element.appendChild(docLink);\n",
              "        }\n",
              "      </script>\n",
              "    </div>\n",
              "  </div>\n",
              "  "
            ]
          },
          "metadata": {},
          "execution_count": 18
        }
      ]
    },
    {
      "cell_type": "code",
      "source": [
        "matplotlib.rcParams.update(matplotlib.rcParamsDefault)\n",
        "#plt.hist(code_df.Frequency)\n",
        "plt.bar(code_sorted_df.Symbol,code_sorted_df.Frequency.apply(lambda x : x*100/max_symbols))\n",
        "plt.xlabel('Symbol')\n",
        "plt.ylabel('Relativa Frequency [%]')\n",
        "plt.show()\n",
        "#plt.xticks(np.arange(min(code_df.Frequency), max(code_df.Frequency)+1, 1.0))"
      ],
      "metadata": {
        "colab": {
          "base_uri": "https://localhost:8080/",
          "height": 449
        },
        "id": "hV2nxSPxL38G",
        "outputId": "aae40981-1d4c-46bc-8929-66a03dae2cf1"
      },
      "execution_count": 19,
      "outputs": [
        {
          "output_type": "display_data",
          "data": {
            "text/plain": [
              "<Figure size 640x480 with 1 Axes>"
            ],
            "image/png": "[encoded data removed]"
          },
          "metadata": {}
        }
      ]
    },
    {
      "cell_type": "markdown",
      "source": [
        "## Decipher the code"
      ],
      "metadata": {
        "id": "q4STpuoMtNGw"
      }
    },
    {
      "cell_type": "code",
      "source": [
        "!git clone https://github.com/JAVegaG/MCT_AI.git"
      ],
      "metadata": {
        "id": "0fSlinQJ-Owj",
        "colab": {
          "base_uri": "https://localhost:8080/"
        },
        "outputId": "84e28914-aa87-4e92-9837-32160fd75c6a"
      },
      "execution_count": 20,
      "outputs": [
        {
          "output_type": "stream",
          "name": "stdout",
          "text": [
            "Cloning into 'MCT_AI'...\n",
            "remote: Enumerating objects: 26, done.\u001b[K\n",
            "remote: Counting objects: 100% (26/26), done.\u001b[K\n",
            "remote: Compressing objects: 100% (23/23), done.\u001b[K\n",
            "remote: Total 26 (delta 4), reused 12 (delta 1), pack-reused 0\u001b[K\n",
            "Unpacking objects: 100% (26/26), done.\n"
          ]
        }
      ]
    },
    {
      "cell_type": "code",
      "source": [
        "w_freq = pd.read_csv('./MCT_AI/Project_1/unigram_freq.csv')\n",
        "w_freq.rename(columns = {'count':'nInstances'}, inplace = True)\n",
        "w_freq.head()"
      ],
      "metadata": {
        "colab": {
          "base_uri": "https://localhost:8080/",
          "height": 206
        },
        "id": "nFJFBaOx-WEe",
        "outputId": "579a939c-5467-4bf9-ebcc-bb00a1b33f7f"
      },
      "execution_count": 21,
      "outputs": [
        {
          "output_type": "execute_result",
          "data": {
            "text/plain": [
              "  word   nInstances\n",
              "0  the  23135851162\n",
              "1   of  13151942776\n",
              "2  and  12997637966\n",
              "3   to  12136980858\n",
              "4    a   9081174698"
            ],
            "text/html": [
              "\n",
              "  <div id=\"df-cd14aeb2-0e77-405f-a794-b1c742fb6eaa\">\n",
              "    <div class=\"colab-df-container\">\n",
              "      <div>\n",
              "<style scoped>\n",
              "    .dataframe tbody tr th:only-of-type {\n",
              "        vertical-align: middle;\n",
              "    }\n",
              "\n",
              "    .dataframe tbody tr th {\n",
              "        vertical-align: top;\n",
              "    }\n",
              "\n",
              "    .dataframe thead th {\n",
              "        text-align: right;\n",
              "    }\n",
              "</style>\n",
              "<table border=\"1\" class=\"dataframe\">\n",
              "  <thead>\n",
              "    <tr style=\"text-align: right;\">\n",
              "      <th></th>\n",
              "      <th>word</th>\n",
              "      <th>nInstances</th>\n",
              "    </tr>\n",
              "  </thead>\n",
              "  <tbody>\n",
              "    <tr>\n",
              "      <th>0</th>\n",
              "      <td>the</td>\n",
              "      <td>23135851162</td>\n",
              "    </tr>\n",
              "    <tr>\n",
              "      <th>1</th>\n",
              "      <td>of</td>\n",
              "      <td>13151942776</td>\n",
              "    </tr>\n",
              "    <tr>\n",
              "      <th>2</th>\n",
              "      <td>and</td>\n",
              "      <td>12997637966</td>\n",
              "    </tr>\n",
              "    <tr>\n",
              "      <th>3</th>\n",
              "      <td>to</td>\n",
              "      <td>12136980858</td>\n",
              "    </tr>\n",
              "    <tr>\n",
              "      <th>4</th>\n",
              "      <td>a</td>\n",
              "      <td>9081174698</td>\n",
              "    </tr>\n",
              "  </tbody>\n",
              "</table>\n",
              "</div>\n",
              "      <button class=\"colab-df-convert\" onclick=\"convertToInteractive('df-cd14aeb2-0e77-405f-a794-b1c742fb6eaa')\"\n",
              "              title=\"Convert this dataframe to an interactive table.\"\n",
              "              style=\"display:none;\">\n",
              "        \n",
              "  <svg xmlns=\"http://www.w3.org/2000/svg\" height=\"24px\"viewBox=\"0 0 24 24\"\n",
              "       width=\"24px\">\n",
              "    <path d=\"M0 0h24v24H0V0z\" fill=\"none\"/>\n",
              "    <path d=\"M18.56 5.44l.94 2.06.94-2.06 2.06-.94-2.06-.94-.94-2.06-.94 2.06-2.06.94zm-11 1L8.5 8.5l.94-2.06 2.06-.94-2.06-.94L8.5 2.5l-.94 2.06-2.06.94zm10 10l.94 2.06.94-2.06 2.06-.94-2.06-.94-.94-2.06-.94 2.06-2.06.94z\"/><path d=\"M17.41 7.96l-1.37-1.37c-.4-.4-.92-.59-1.43-.59-.52 0-1.04.2-1.43.59L10.3 9.45l-7.72 7.72c-.78.78-.78 2.05 0 2.83L4 21.41c.39.39.9.59 1.41.59.51 0 1.02-.2 1.41-.59l7.78-7.78 2.81-2.81c.8-.78.8-2.07 0-2.86zM5.41 20L4 18.59l7.72-7.72 1.47 1.35L5.41 20z\"/>\n",
              "  </svg>\n",
              "      </button>\n",
              "      \n",
              "  <style>\n",
              "    .colab-df-container {\n",
              "      display:flex;\n",
              "      flex-wrap:wrap;\n",
              "      gap: 12px;\n",
              "    }\n",
              "\n",
              "    .colab-df-convert {\n",
              "      background-color: #E8F0FE;\n",
              "      border: none;\n",
              "      border-radius: 50%;\n",
              "      cursor: pointer;\n",
              "      display: none;\n",
              "      fill: #1967D2;\n",
              "      height: 32px;\n",
              "      padding: 0 0 0 0;\n",
              "      width: 32px;\n",
              "    }\n",
              "\n",
              "    .colab-df-convert:hover {\n",
              "      background-color: #E2EBFA;\n",
              "      box-shadow: 0px 1px 2px rgba(60, 64, 67, 0.3), 0px 1px 3px 1px rgba(60, 64, 67, 0.15);\n",
              "      fill: #174EA6;\n",
              "    }\n",
              "\n",
              "    [theme=dark] .colab-df-convert {\n",
              "      background-color: #3B4455;\n",
              "      fill: #D2E3FC;\n",
              "    }\n",
              "\n",
              "    [theme=dark] .colab-df-convert:hover {\n",
              "      background-color: #434B5C;\n",
              "      box-shadow: 0px 1px 3px 1px rgba(0, 0, 0, 0.15);\n",
              "      filter: drop-shadow(0px 1px 2px rgba(0, 0, 0, 0.3));\n",
              "      fill: #FFFFFF;\n",
              "    }\n",
              "  </style>\n",
              "\n",
              "      <script>\n",
              "        const buttonEl =\n",
              "          document.querySelector('#df-cd14aeb2-0e77-405f-a794-b1c742fb6eaa button.colab-df-convert');\n",
              "        buttonEl.style.display =\n",
              "          google.colab.kernel.accessAllowed ? 'block' : 'none';\n",
              "\n",
              "        async function convertToInteractive(key) {\n",
              "          const element = document.querySelector('#df-cd14aeb2-0e77-405f-a794-b1c742fb6eaa');\n",
              "          const dataTable =\n",
              "            await google.colab.kernel.invokeFunction('convertToInteractive',\n",
              "                                                     [key], {});\n",
              "          if (!dataTable) return;\n",
              "\n",
              "          const docLinkHtml = 'Like what you see? Visit the ' +\n",
              "            '<a target=\"_blank\" href=https://colab.research.google.com/notebooks/data_table.ipynb>data table notebook</a>'\n",
              "            + ' to learn more about interactive tables.';\n",
              "          element.innerHTML = '';\n",
              "          dataTable['output_type'] = 'display_data';\n",
              "          await google.colab.output.renderOutput(dataTable, element);\n",
              "          const docLink = document.createElement('div');\n",
              "          docLink.innerHTML = docLinkHtml;\n",
              "          element.appendChild(docLink);\n",
              "        }\n",
              "      </script>\n",
              "    </div>\n",
              "  </div>\n",
              "  "
            ]
          },
          "metadata": {},
          "execution_count": 21
        }
      ]
    },
    {
      "cell_type": "code",
      "source": [
        "plt.figure(figsize=[20,5])\n",
        "#plt.rcParams['figure.figsize'] = [20, 5]\n",
        "plt.bar(w_freq['word'][0:40],w_freq['nInstances'][0:40])\n",
        "plt.show()"
      ],
      "metadata": {
        "colab": {
          "base_uri": "https://localhost:8080/",
          "height": 278
        },
        "id": "sRSs87gt_Dkl",
        "outputId": "037af512-5fe9-48f0-a1cf-0f60bc638f8a"
      },
      "execution_count": 22,
      "outputs": [
        {
          "output_type": "display_data",
          "data": {
            "text/plain": [
              "<Figure size 2000x500 with 1 Axes>"
            ],
            "image/png": "[encoded data removed]"
          },
          "metadata": {}
        }
      ]
    },
    {
      "cell_type": "code",
      "source": [
        "\n",
        "w_freq['word'] = w_freq.word.astype('str')\n",
        "\n",
        "for word in w_freq['word']:\n",
        "    if type(word) != str:\n",
        "        print(word)\n",
        "\n",
        "w_freq_lens = []\n",
        "\n",
        "for word in w_freq['word']:\n",
        "    w_lens = len(word)\n",
        "    w_freq_lens.append(w_lens)\n",
        "    \n",
        "w_freq['length'] = w_freq_lens\n",
        "    \n",
        "w_freq.head()\n"
      ],
      "metadata": {
        "colab": {
          "base_uri": "https://localhost:8080/",
          "height": 206
        },
        "id": "uPCGMjdSOdH-",
        "outputId": "85a3ecf7-0277-4e85-9e5a-f66707a01a36"
      },
      "execution_count": 23,
      "outputs": [
        {
          "output_type": "execute_result",
          "data": {
            "text/plain": [
              "  word   nInstances  length\n",
              "0  the  23135851162       3\n",
              "1   of  13151942776       2\n",
              "2  and  12997637966       3\n",
              "3   to  12136980858       2\n",
              "4    a   9081174698       1"
            ],
            "text/html": [
              "\n",
              "  <div id=\"df-47090ef5-275a-485e-b621-29da10a6376c\">\n",
              "    <div class=\"colab-df-container\">\n",
              "      <div>\n",
              "<style scoped>\n",
              "    .dataframe tbody tr th:only-of-type {\n",
              "        vertical-align: middle;\n",
              "    }\n",
              "\n",
              "    .dataframe tbody tr th {\n",
              "        vertical-align: top;\n",
              "    }\n",
              "\n",
              "    .dataframe thead th {\n",
              "        text-align: right;\n",
              "    }\n",
              "</style>\n",
              "<table border=\"1\" class=\"dataframe\">\n",
              "  <thead>\n",
              "    <tr style=\"text-align: right;\">\n",
              "      <th></th>\n",
              "      <th>word</th>\n",
              "      <th>nInstances</th>\n",
              "      <th>length</th>\n",
              "    </tr>\n",
              "  </thead>\n",
              "  <tbody>\n",
              "    <tr>\n",
              "      <th>0</th>\n",
              "      <td>the</td>\n",
              "      <td>23135851162</td>\n",
              "      <td>3</td>\n",
              "    </tr>\n",
              "    <tr>\n",
              "      <th>1</th>\n",
              "      <td>of</td>\n",
              "      <td>13151942776</td>\n",
              "      <td>2</td>\n",
              "    </tr>\n",
              "    <tr>\n",
              "      <th>2</th>\n",
              "      <td>and</td>\n",
              "      <td>12997637966</td>\n",
              "      <td>3</td>\n",
              "    </tr>\n",
              "    <tr>\n",
              "      <th>3</th>\n",
              "      <td>to</td>\n",
              "      <td>12136980858</td>\n",
              "      <td>2</td>\n",
              "    </tr>\n",
              "    <tr>\n",
              "      <th>4</th>\n",
              "      <td>a</td>\n",
              "      <td>9081174698</td>\n",
              "      <td>1</td>\n",
              "    </tr>\n",
              "  </tbody>\n",
              "</table>\n",
              "</div>\n",
              "      <button class=\"colab-df-convert\" onclick=\"convertToInteractive('df-47090ef5-275a-485e-b621-29da10a6376c')\"\n",
              "              title=\"Convert this dataframe to an interactive table.\"\n",
              "              style=\"display:none;\">\n",
              "        \n",
              "  <svg xmlns=\"http://www.w3.org/2000/svg\" height=\"24px\"viewBox=\"0 0 24 24\"\n",
              "       width=\"24px\">\n",
              "    <path d=\"M0 0h24v24H0V0z\" fill=\"none\"/>\n",
              "    <path d=\"M18.56 5.44l.94 2.06.94-2.06 2.06-.94-2.06-.94-.94-2.06-.94 2.06-2.06.94zm-11 1L8.5 8.5l.94-2.06 2.06-.94-2.06-.94L8.5 2.5l-.94 2.06-2.06.94zm10 10l.94 2.06.94-2.06 2.06-.94-2.06-.94-.94-2.06-.94 2.06-2.06.94z\"/><path d=\"M17.41 7.96l-1.37-1.37c-.4-.4-.92-.59-1.43-.59-.52 0-1.04.2-1.43.59L10.3 9.45l-7.72 7.72c-.78.78-.78 2.05 0 2.83L4 21.41c.39.39.9.59 1.41.59.51 0 1.02-.2 1.41-.59l7.78-7.78 2.81-2.81c.8-.78.8-2.07 0-2.86zM5.41 20L4 18.59l7.72-7.72 1.47 1.35L5.41 20z\"/>\n",
              "  </svg>\n",
              "      </button>\n",
              "      \n",
              "  <style>\n",
              "    .colab-df-container {\n",
              "      display:flex;\n",
              "      flex-wrap:wrap;\n",
              "      gap: 12px;\n",
              "    }\n",
              "\n",
              "    .colab-df-convert {\n",
              "      background-color: #E8F0FE;\n",
              "      border: none;\n",
              "      border-radius: 50%;\n",
              "      cursor: pointer;\n",
              "      display: none;\n",
              "      fill: #1967D2;\n",
              "      height: 32px;\n",
              "      padding: 0 0 0 0;\n",
              "      width: 32px;\n",
              "    }\n",
              "\n",
              "    .colab-df-convert:hover {\n",
              "      background-color: #E2EBFA;\n",
              "      box-shadow: 0px 1px 2px rgba(60, 64, 67, 0.3), 0px 1px 3px 1px rgba(60, 64, 67, 0.15);\n",
              "      fill: #174EA6;\n",
              "    }\n",
              "\n",
              "    [theme=dark] .colab-df-convert {\n",
              "      background-color: #3B4455;\n",
              "      fill: #D2E3FC;\n",
              "    }\n",
              "\n",
              "    [theme=dark] .colab-df-convert:hover {\n",
              "      background-color: #434B5C;\n",
              "      box-shadow: 0px 1px 3px 1px rgba(0, 0, 0, 0.15);\n",
              "      filter: drop-shadow(0px 1px 2px rgba(0, 0, 0, 0.3));\n",
              "      fill: #FFFFFF;\n",
              "    }\n",
              "  </style>\n",
              "\n",
              "      <script>\n",
              "        const buttonEl =\n",
              "          document.querySelector('#df-47090ef5-275a-485e-b621-29da10a6376c button.colab-df-convert');\n",
              "        buttonEl.style.display =\n",
              "          google.colab.kernel.accessAllowed ? 'block' : 'none';\n",
              "\n",
              "        async function convertToInteractive(key) {\n",
              "          const element = document.querySelector('#df-47090ef5-275a-485e-b621-29da10a6376c');\n",
              "          const dataTable =\n",
              "            await google.colab.kernel.invokeFunction('convertToInteractive',\n",
              "                                                     [key], {});\n",
              "          if (!dataTable) return;\n",
              "\n",
              "          const docLinkHtml = 'Like what you see? Visit the ' +\n",
              "            '<a target=\"_blank\" href=https://colab.research.google.com/notebooks/data_table.ipynb>data table notebook</a>'\n",
              "            + ' to learn more about interactive tables.';\n",
              "          element.innerHTML = '';\n",
              "          dataTable['output_type'] = 'display_data';\n",
              "          await google.colab.output.renderOutput(dataTable, element);\n",
              "          const docLink = document.createElement('div');\n",
              "          docLink.innerHTML = docLinkHtml;\n",
              "          element.appendChild(docLink);\n",
              "        }\n",
              "      </script>\n",
              "    </div>\n",
              "  </div>\n",
              "  "
            ]
          },
          "metadata": {},
          "execution_count": 23
        }
      ]
    },
    {
      "cell_type": "code",
      "source": [
        "w_freq.loc[w_freq['length'] == 3].word[0]"
      ],
      "metadata": {
        "colab": {
          "base_uri": "https://localhost:8080/",
          "height": 35
        },
        "id": "TG2cR1MptCTM",
        "outputId": "0a5cea24-7504-4ba4-9aed-7ad7da2c673f"
      },
      "execution_count": 24,
      "outputs": [
        {
          "output_type": "execute_result",
          "data": {
            "text/plain": [
              "'the'"
            ],
            "application/vnd.google.colaboratory.intrinsic+json": {
              "type": "string"
            }
          },
          "metadata": {},
          "execution_count": 24
        }
      ]
    },
    {
      "cell_type": "code",
      "source": [
        "def wDataFrame(secretCode,iValue=2,fValue=10):\n",
        "\n",
        "  \"\"\"\n",
        "  This function returns a dictionary that contains all the combination of\n",
        "  characters that fulfill the condition of having a length from\n",
        "  n = iValue to n = fValue. By default iValue = 2 and fValue = 10\n",
        "  \"\"\"\n",
        "  import pandas as pd\n",
        "  import re\n",
        "\n",
        "  nInstances = []\n",
        "  words = []\n",
        "  w_set = set()\n",
        "\n",
        "  for q in range(iValue,fValue+1):\n",
        "    \n",
        "    a_set = set(re.findall('[\\S]'+'{'+'{0}'.format(q)+'}',\n",
        "                            secretCode)) #aux set\n",
        "    w_set = w_set.union(a_set).copy()\n",
        "\n",
        "  for w in w_set:\n",
        "\n",
        "    nInstances.append(len(re.findall(w, secretCode)))\n",
        "    words.append(w)\n",
        "    \n",
        "  w_dict = {'word':words,'nInstances':nInstances}\n",
        "  w_df = pd.DataFrame(w_dict)\n",
        "\n",
        "  w_sorted_df = w_df.sort_values('nInstances',ascending=False).reset_index().copy()\n",
        "  w_sorted_df = w_sorted_df.drop(\"index\", axis=1).copy() #column=\"index\"\n",
        "\n",
        "  return w_sorted_df"
      ],
      "metadata": {
        "id": "l3qApSKukPUe"
      },
      "execution_count": 25,
      "outputs": []
    },
    {
      "cell_type": "code",
      "source": [
        "def patternFilter(words,selector):\n",
        "  \"\"\"\n",
        "  This function will return an equivalent pattern for working with a regular\n",
        "  expression that would allow you to use any of the 're' Python Library\n",
        "  functions on that given pattern. Its input must be a list.\n",
        "  \"\"\"\n",
        "  import re\n",
        "\n",
        "  len_ref = len(words[selector])\n",
        "  valPat = ''\n",
        "\n",
        "  for q in range(0,len_ref):\n",
        "    if re.fullmatch('[\\s]{1}',words[selector][q]):\n",
        "      valPat += ''\n",
        "    elif re.fullmatch('[^a-zA-Z]{1}',words[selector][q]):\n",
        "      valPat += '[\\w]{1}'\n",
        "    else:\n",
        "      valPat += '{0}'.format(words[selector][q])\n",
        "\n",
        "  return valPat  "
      ],
      "metadata": {
        "id": "zy5i-tTZ5Y89"
      },
      "execution_count": 26,
      "outputs": []
    },
    {
      "cell_type": "code",
      "source": [
        "'{0}'.format('hello')\n",
        "'[\\W]{'+'{0}'.format(len(secretCode))+'}'"
      ],
      "metadata": {
        "colab": {
          "base_uri": "https://localhost:8080/",
          "height": 35
        },
        "id": "LsrY-9mywE4c",
        "outputId": "b98270db-c2fb-484d-c836-386c46e05817"
      },
      "execution_count": 27,
      "outputs": [
        {
          "output_type": "execute_result",
          "data": {
            "text/plain": [
              "'[\\\\W]{211}'"
            ],
            "application/vnd.google.colaboratory.intrinsic+json": {
              "type": "string"
            }
          },
          "metadata": {},
          "execution_count": 27
        }
      ]
    },
    {
      "cell_type": "code",
      "source": [
        "def message_decipher( secretCode, w_freq, control = 3,\n",
        "                     s_set = set(), l_set = set(), w_set = set() ):\n",
        "\n",
        "  v = 0\n",
        "  b = 0\n",
        "  flag = 1\n",
        "\n",
        "  while flag != 0:\n",
        "\n",
        "    w_real = wDataFrame(secretCode, control)\n",
        "    \n",
        "    len_ref = len(w_real.word[v])\n",
        "    pat = patternFilter(w_real.word, v)\n",
        "\n",
        "    mask = w_freq.word.str.fullmatch(pat) & 1\n",
        "    w_ref = w_freq[mask].reset_index().drop('index', axis=1).copy()\n",
        "\n",
        "\n",
        "    if ( not w_ref.empty ) and (len(set(re.findall('[\\S]',secretCode))) != 0):\n",
        "\n",
        "      if w_ref.word[b] not in w_set:\n",
        "\n",
        "        w_set.add(w_ref.word[b])\n",
        "        \n",
        "        for q in range(0, len_ref):\n",
        "\n",
        "          key1 = '{0}'.format(w_real.word[v][q])\n",
        "          key2 = '{0}'.format(w_ref.word[b][q])\n",
        "          \n",
        "          if (key1 not in s_set) and (key2 not in l_set):\n",
        "            \n",
        "            s_set.add(key1)\n",
        "            l_set.add(key2)\n",
        "\n",
        "            if q == 0:\n",
        "              secretCode = re.sub(key1, ' ' + key2, secretCode)\n",
        "            else:\n",
        "              secretCode = re.sub(key1, key2, secretCode)\n",
        "            \n",
        "          else:\n",
        "            continue\n",
        "        \n",
        "        secretCode = re.sub('{0}'.format(w_ref.word[b]), ' ' + '{0}'.format(w_ref.word[b]) + ' ', secretCode)\n",
        "        secretCode = re.sub('[\\n]{1}[ ]{1,}' + '{0}'.format(w_ref.word[b][0]), '\\n' + '{0}'.format(w_ref.word[b][0]), secretCode)\n",
        "        \n",
        "        secretCode = re.sub('[ ]{2,}' + '{0}'.format(w_ref.word[b][0]), ' ' + '{0}'.format(w_ref.word[b][0]), secretCode)\n",
        "        secretCode = re.sub('{0}'.format(w_ref.word[b][len_ref-1]) + '[ ]{2,}', '{0}'.format(w_ref.word[b][len_ref-1]) + ' ', secretCode)\n",
        "        \n",
        "      elif (len(w_ref) == 1) and (v < ( len(w_real) - 1 )):\n",
        "        v += 1\n",
        "        continue\n",
        "      elif b < len(w_ref) - 1:\n",
        "        b += 1\n",
        "        continue\n",
        "      else:\n",
        "        break\n",
        "      \n",
        "      b = 0\n",
        "      v = 0\n",
        "\n",
        "    else:\n",
        "      flag = 0\n",
        "  \n",
        "  if control != 1:\n",
        "    control -= 1\n",
        "    print('Control = %d' % (control) )\n",
        "    secretCode = message_decipher( secretCode, w_freq, control, s_set, l_set, w_set )\n",
        "  else:\n",
        "    print('Done')\n",
        "    \n",
        "  return secretCode"
      ],
      "metadata": {
        "id": "-wHgn_i0lb8D"
      },
      "execution_count": 32,
      "outputs": []
    },
    {
      "cell_type": "code",
      "source": [
        "message = message_decipher( secretCode, w_freq )"
      ],
      "metadata": {
        "colab": {
          "base_uri": "https://localhost:8080/"
        },
        "id": "LtOwFLoDrnN1",
        "outputId": "31202af5-265d-409f-9fd1-980e63e55943"
      },
      "execution_count": 33,
      "outputs": [
        {
          "output_type": "stream",
          "name": "stdout",
          "text": [
            "Control = 2\n",
            "Control = 1\n",
            "Done\n"
          ]
        }
      ]
    },
    {
      "cell_type": "code",
      "source": [
        "print(message)"
      ],
      "metadata": {
        "colab": {
          "base_uri": "https://localhost:8080/"
        },
        "id": "2KsVQQyyAx3G",
        "outputId": "7376487f-2341-4b82-ebe5-46019142b192"
      },
      "execution_count": 34,
      "outputs": [
        {
          "output_type": "stream",
          "name": "stdout",
          "text": [
            "\n",
            "a g o o d g l a w w i n t h e c i w h o s w h o w t e l \n",
            "i n t h e d e b i l w w e a t f o r t v o n e d e g r e e w \n",
            "a n d t h i r t e e n m i n u t e w n o r t h e a w t a n d \n",
            "c v n o r t h m a i n c r a n p h w e b e n t h l i m c \n",
            "e a w t w i d e w h o o t f r o m t h e l e f t e v e o f \n",
            "t h e d e a t h w h e a d a c e e l i n e f r o m t h e \n",
            "t r e e t h r o u g h t h e w h o t f i f t v f e e t o u t \n",
            "\n"
          ]
        }
      ]
    }
  ],
  "metadata": {
    "colab": {
      "provenance": [],
      "toc_visible": true,
      "authorship_tag": "ABX9TyPL2WA5i+kryfJ4sp3fqxfh",
      "include_colab_link": true
    },
    "kernelspec": {
      "display_name": "Python 3",
      "name": "python3"
    },
    "language_info": {
      "name": "python"
    }
  },
  "nbformat": 4,
  "nbformat_minor": 0
}