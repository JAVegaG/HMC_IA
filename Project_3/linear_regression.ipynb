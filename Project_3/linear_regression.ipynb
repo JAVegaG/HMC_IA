{
  "nbformat": 4,
  "nbformat_minor": 0,
  "metadata": {
    "colab": {
      "provenance": [],
      "toc_visible": true,
      "authorship_tag": "ABX9TyOucL454aeHHOG6ZzoT2BMN",
      "include_colab_link": true
    },
    "kernelspec": {
      "name": "python3",
      "display_name": "Python 3"
    },
    "language_info": {
      "name": "python"
    }
  },
  "cells": [
    {
      "cell_type": "markdown",
      "metadata": {
        "id": "view-in-github",
        "colab_type": "text"
      },
      "source": [
        "<a href=\"https://colab.research.google.com/github/JAVegaG/MCT_AI/blob/main/Project_3/linear_regression.ipynb\" target=\"_parent\"><img src=\"https://colab.research.google.com/assets/colab-badge.svg\" alt=\"Open In Colab\"/></a>"
      ]
    },
    {
      "cell_type": "markdown",
      "source": [
        "# Linear Regression"
      ],
      "metadata": {
        "id": "HsQzfhrRXDgb"
      }
    },
    {
      "cell_type": "markdown",
      "source": [
        "Linear Regression is a supervised machine learning algorithm, which means that its training is based on a series of inputs to which its outputs are known beforehand.\n",
        "\n",
        "Regression analysis focuses on modeling the relationship between a dependent variable and one or more independent variables. Therefore, as a result of this modeling, one could predict an expected result given some input. \n",
        "\n",
        "Now, when talking about linear regression it is important to understand that it refers to modeling a relationship between one dependent variable and only one independent variable."
      ],
      "metadata": {
        "id": "8psXSMHbymPX"
      }
    },
    {
      "cell_type": "markdown",
      "source": [
        "## Math"
      ],
      "metadata": {
        "id": "DD8tXT9P5hje"
      }
    },
    {
      "cell_type": "markdown",
      "source": [
        "First, it is necessary to **normalize** the data in order to make learning easier for the model. This means, transforming the original data to guarantee a better performance of the learning algorithm. In this case, the process carried on is called **standardization** and consists of using the mean and standard deviation to transform the original data into equivalent data of zero-mean and standard deviation of one. Mathematically:\n",
        "\n",
        "\\begin{equation}\n",
        "x' = \\frac{x-\\overline{x}}{\\sigma}\n",
        "\\end{equation}\n",
        "\n",
        "Then, since this type of regression is linear, the expected output must follow this form:\n",
        "\n",
        "\\begin{equation}\n",
        "y = \\theta_1 x_1 + \\theta_2 x_2 + \\theta_3 x_3 + \\dots \\theta_n x_n \n",
        "\\end{equation}\n",
        "\n",
        "The previous expression can be rewritten as a dot product  between two vectors:\n",
        "\n",
        "\\begin{equation}\n",
        "\\hat{y} = \\vec{\\theta} \\cdot \\vec{X}\n",
        "\\end{equation}\n",
        "\n",
        "Next, to evaluate the performance of the algorithm it is used a **loss function**, which compares the predicted output of the model to the real output. For regression applications, it is very common to use **mean squared error (MSE)** that iterates on every component of the real output vector and the predicted output vector while subtracting from one another and finally dividing the result by the number of components iterated. Mathematically:\n",
        "\n",
        "\\begin{equation}\n",
        "L_{MSE} = \\frac{1}{n} \\sum_{i=1}^{n}(y_i - \\hat{y}_{i})^2\n",
        "\\end{equation} \n",
        "\n",
        "Later, an **optimization algorithm** is used to adjust the parameters of the model, which would improve the results in the regression. In this example, the **gradient descent** is the algorithm used as shown below, where θ is the parameter to optimize, η is the learning rate, ∇ is the gradient itself, y is the actual value, and L is the loss function:\n",
        "\n",
        "\\begin{equation}\n",
        "\\theta_{t+1} = \\theta_{t} - \\eta\\nabla{L_{MSE}(\\hat{y},y)}\n",
        "\\end{equation}\n",
        "\n",
        "Finally, the partial derivatives of the loss function with respect to the parameters:\n",
        "\n",
        "\\begin{equation}\n",
        "\\frac{\\partial L_{MSE}(\\hat{y},y)}{\\partial \\vec{\\theta}}\n",
        "= -\n",
        "\\frac{2}{n} \\sum_{i=1}^{n}\\vec{X}_i^T \\cdot (y_i - \\hat{y}_{i})\n",
        "\\end{equation}"
      ],
      "metadata": {
        "id": "vmHxGIoL5yo_"
      }
    },
    {
      "cell_type": "markdown",
      "source": [
        "## Code"
      ],
      "metadata": {
        "id": "LEnq6wte5i91"
      }
    },
    {
      "cell_type": "code",
      "source": [
        "import numpy as np\n",
        "import pandas as pd\n",
        "import matplotlib.pyplot as plt"
      ],
      "metadata": {
        "id": "6wQ3gmGZc6C1"
      },
      "execution_count": 1,
      "outputs": []
    },
    {
      "cell_type": "code",
      "execution_count": 2,
      "metadata": {
        "colab": {
          "base_uri": "https://localhost:8080/"
        },
        "id": "TR4zPPzZV2aL",
        "outputId": "19ed0631-e8cc-4f30-b6cb-630c17d631c1"
      },
      "outputs": [
        {
          "output_type": "stream",
          "name": "stdout",
          "text": [
            "Cloning into 'MCT_AI'...\n",
            "remote: Enumerating objects: 253, done.\u001b[K\n",
            "remote: Counting objects: 100% (52/52), done.\u001b[K\n",
            "remote: Compressing objects: 100% (33/33), done.\u001b[K\n",
            "remote: Total 253 (delta 29), reused 37 (delta 19), pack-reused 201\u001b[K\n",
            "Receiving objects: 100% (253/253), 3.43 MiB | 20.65 MiB/s, done.\n",
            "Resolving deltas: 100% (101/101), done.\n"
          ]
        }
      ],
      "source": [
        "!git clone https://github.com/JAVegaG/MCT_AI.git"
      ]
    },
    {
      "cell_type": "code",
      "source": [
        "from MCT_AI.Project_3 import my_functions as mf"
      ],
      "metadata": {
        "id": "4uz4UKrLdEU8"
      },
      "execution_count": 3,
      "outputs": []
    },
    {
      "cell_type": "markdown",
      "source": [
        "First, it is necessary to identify the datasets that would be a good fit for implementing a linear regression algorithm. Therefore, to find an adequate dataset one must search for those with a **Linear Regression task** and **few features**.\n",
        "\n",
        "Kaggle was used for searching the dataset, and afterward, it was selected a simple one, which means it only has an independent variable. This dataset aims to predict what the salary of a person would be given their years of experience."
      ],
      "metadata": {
        "id": "0F1vkl1RY_-g"
      }
    },
    {
      "cell_type": "code",
      "source": [
        "df = pd.read_csv(\"MCT_AI/Project_3/Salary.csv\", index_col=False)\n",
        "df = df.drop(df.select_dtypes(['category','object']),axis=1).copy()"
      ],
      "metadata": {
        "id": "jDZic5vg4XRf"
      },
      "execution_count": 4,
      "outputs": []
    },
    {
      "cell_type": "code",
      "source": [
        "df.head()"
      ],
      "metadata": {
        "colab": {
          "base_uri": "https://localhost:8080/",
          "height": 206
        },
        "id": "fCBzSm0h1-Dx",
        "outputId": "ef3c0ae0-8620-4559-fa19-a5dc79742c8a"
      },
      "execution_count": 5,
      "outputs": [
        {
          "output_type": "execute_result",
          "data": {
            "text/plain": [
              "   YearsExperience  Salary\n",
              "0              1.1   39343\n",
              "1              1.3   46205\n",
              "2              1.5   37731\n",
              "3              2.0   43525\n",
              "4              2.2   39891"
            ],
            "text/html": [
              "\n",
              "  <div id=\"df-7d8ba2b1-462a-444f-973c-65dc7f0bf8a1\">\n",
              "    <div class=\"colab-df-container\">\n",
              "      <div>\n",
              "<style scoped>\n",
              "    .dataframe tbody tr th:only-of-type {\n",
              "        vertical-align: middle;\n",
              "    }\n",
              "\n",
              "    .dataframe tbody tr th {\n",
              "        vertical-align: top;\n",
              "    }\n",
              "\n",
              "    .dataframe thead th {\n",
              "        text-align: right;\n",
              "    }\n",
              "</style>\n",
              "<table border=\"1\" class=\"dataframe\">\n",
              "  <thead>\n",
              "    <tr style=\"text-align: right;\">\n",
              "      <th></th>\n",
              "      <th>YearsExperience</th>\n",
              "      <th>Salary</th>\n",
              "    </tr>\n",
              "  </thead>\n",
              "  <tbody>\n",
              "    <tr>\n",
              "      <th>0</th>\n",
              "      <td>1.1</td>\n",
              "      <td>39343</td>\n",
              "    </tr>\n",
              "    <tr>\n",
              "      <th>1</th>\n",
              "      <td>1.3</td>\n",
              "      <td>46205</td>\n",
              "    </tr>\n",
              "    <tr>\n",
              "      <th>2</th>\n",
              "      <td>1.5</td>\n",
              "      <td>37731</td>\n",
              "    </tr>\n",
              "    <tr>\n",
              "      <th>3</th>\n",
              "      <td>2.0</td>\n",
              "      <td>43525</td>\n",
              "    </tr>\n",
              "    <tr>\n",
              "      <th>4</th>\n",
              "      <td>2.2</td>\n",
              "      <td>39891</td>\n",
              "    </tr>\n",
              "  </tbody>\n",
              "</table>\n",
              "</div>\n",
              "      <button class=\"colab-df-convert\" onclick=\"convertToInteractive('df-7d8ba2b1-462a-444f-973c-65dc7f0bf8a1')\"\n",
              "              title=\"Convert this dataframe to an interactive table.\"\n",
              "              style=\"display:none;\">\n",
              "        \n",
              "  <svg xmlns=\"http://www.w3.org/2000/svg\" height=\"24px\"viewBox=\"0 0 24 24\"\n",
              "       width=\"24px\">\n",
              "    <path d=\"M0 0h24v24H0V0z\" fill=\"none\"/>\n",
              "    <path d=\"M18.56 5.44l.94 2.06.94-2.06 2.06-.94-2.06-.94-.94-2.06-.94 2.06-2.06.94zm-11 1L8.5 8.5l.94-2.06 2.06-.94-2.06-.94L8.5 2.5l-.94 2.06-2.06.94zm10 10l.94 2.06.94-2.06 2.06-.94-2.06-.94-.94-2.06-.94 2.06-2.06.94z\"/><path d=\"M17.41 7.96l-1.37-1.37c-.4-.4-.92-.59-1.43-.59-.52 0-1.04.2-1.43.59L10.3 9.45l-7.72 7.72c-.78.78-.78 2.05 0 2.83L4 21.41c.39.39.9.59 1.41.59.51 0 1.02-.2 1.41-.59l7.78-7.78 2.81-2.81c.8-.78.8-2.07 0-2.86zM5.41 20L4 18.59l7.72-7.72 1.47 1.35L5.41 20z\"/>\n",
              "  </svg>\n",
              "      </button>\n",
              "      \n",
              "  <style>\n",
              "    .colab-df-container {\n",
              "      display:flex;\n",
              "      flex-wrap:wrap;\n",
              "      gap: 12px;\n",
              "    }\n",
              "\n",
              "    .colab-df-convert {\n",
              "      background-color: #E8F0FE;\n",
              "      border: none;\n",
              "      border-radius: 50%;\n",
              "      cursor: pointer;\n",
              "      display: none;\n",
              "      fill: #1967D2;\n",
              "      height: 32px;\n",
              "      padding: 0 0 0 0;\n",
              "      width: 32px;\n",
              "    }\n",
              "\n",
              "    .colab-df-convert:hover {\n",
              "      background-color: #E2EBFA;\n",
              "      box-shadow: 0px 1px 2px rgba(60, 64, 67, 0.3), 0px 1px 3px 1px rgba(60, 64, 67, 0.15);\n",
              "      fill: #174EA6;\n",
              "    }\n",
              "\n",
              "    [theme=dark] .colab-df-convert {\n",
              "      background-color: #3B4455;\n",
              "      fill: #D2E3FC;\n",
              "    }\n",
              "\n",
              "    [theme=dark] .colab-df-convert:hover {\n",
              "      background-color: #434B5C;\n",
              "      box-shadow: 0px 1px 3px 1px rgba(0, 0, 0, 0.15);\n",
              "      filter: drop-shadow(0px 1px 2px rgba(0, 0, 0, 0.3));\n",
              "      fill: #FFFFFF;\n",
              "    }\n",
              "  </style>\n",
              "\n",
              "      <script>\n",
              "        const buttonEl =\n",
              "          document.querySelector('#df-7d8ba2b1-462a-444f-973c-65dc7f0bf8a1 button.colab-df-convert');\n",
              "        buttonEl.style.display =\n",
              "          google.colab.kernel.accessAllowed ? 'block' : 'none';\n",
              "\n",
              "        async function convertToInteractive(key) {\n",
              "          const element = document.querySelector('#df-7d8ba2b1-462a-444f-973c-65dc7f0bf8a1');\n",
              "          const dataTable =\n",
              "            await google.colab.kernel.invokeFunction('convertToInteractive',\n",
              "                                                     [key], {});\n",
              "          if (!dataTable) return;\n",
              "\n",
              "          const docLinkHtml = 'Like what you see? Visit the ' +\n",
              "            '<a target=\"_blank\" href=https://colab.research.google.com/notebooks/data_table.ipynb>data table notebook</a>'\n",
              "            + ' to learn more about interactive tables.';\n",
              "          element.innerHTML = '';\n",
              "          dataTable['output_type'] = 'display_data';\n",
              "          await google.colab.output.renderOutput(dataTable, element);\n",
              "          const docLink = document.createElement('div');\n",
              "          docLink.innerHTML = docLinkHtml;\n",
              "          element.appendChild(docLink);\n",
              "        }\n",
              "      </script>\n",
              "    </div>\n",
              "  </div>\n",
              "  "
            ]
          },
          "metadata": {},
          "execution_count": 5
        }
      ]
    },
    {
      "cell_type": "code",
      "source": [
        "total_data = np.array(df, dtype=float)\n",
        "\n",
        "target_column = total_data.shape[1] - 1\n",
        "\n",
        "x, y = total_data[:, :target_column], total_data[:, target_column]\n",
        "\n",
        "plt.xlabel('Experience [Years]')\n",
        "plt.ylabel('Salary')\n",
        "plt.plot(x[:,target_column-1], y, 'bo')\n",
        "plt.show()\n",
        "\n",
        "x_norm, y_norm, mu, std = mf.normalize(total_data)"
      ],
      "metadata": {
        "colab": {
          "base_uri": "https://localhost:8080/",
          "height": 279
        },
        "id": "_WkbPtHFe_9z",
        "outputId": "fe96868e-7050-4c14-c63f-ce8508c10d87"
      },
      "execution_count": 6,
      "outputs": [
        {
          "output_type": "display_data",
          "data": {
            "text/plain": [
              "<Figure size 432x288 with 1 Axes>"
            ],
            "image/png": "[encoded data removed]"
          },
          "metadata": {
            "needs_background": "light"
          }
        }
      ]
    },
    {
      "cell_type": "code",
      "source": [
        "y_norm = np.reshape(y_norm, (len(y_norm),1))\n",
        "x_norm = np.hstack((np.ones((x_norm.shape[0],1)), x_norm))"
      ],
      "metadata": {
        "id": "9w-wDhovlAtz"
      },
      "execution_count": 7,
      "outputs": []
    },
    {
      "cell_type": "markdown",
      "source": [
        "## Results"
      ],
      "metadata": {
        "id": "qLpEpmgYo4zJ"
      }
    },
    {
      "cell_type": "code",
      "source": [
        "theta = np.zeros((x_norm.shape[1], 1))\n",
        "learning_rate = 0.1\n",
        "momentum = 0.9\n",
        "num_epochs = 50"
      ],
      "metadata": {
        "id": "rZij6HkLot4p"
      },
      "execution_count": 8,
      "outputs": []
    },
    {
      "cell_type": "markdown",
      "source": [
        "### Model 1 using Gradient Descent"
      ],
      "metadata": {
        "id": "Ecpt8x2vo7TL"
      }
    },
    {
      "cell_type": "code",
      "source": [
        "theta1, J_all1 = mf.gradient_descent(x_norm, y_norm, theta, learning_rate, num_epochs)"
      ],
      "metadata": {
        "id": "IUFSd2N9f0iX"
      },
      "execution_count": 9,
      "outputs": []
    },
    {
      "cell_type": "code",
      "source": [
        "J1 = mf.cost_function(x_norm, y_norm, theta1)\n",
        "print(\"Cost:\\n\", J1)\n",
        "print(\"Parameters:\\n\", theta1)"
      ],
      "metadata": {
        "colab": {
          "base_uri": "https://localhost:8080/"
        },
        "id": "nThx1m15lGfx",
        "outputId": "53af7c49-ddc0-4397-b3bc-a5eae68c265b"
      },
      "execution_count": 10,
      "outputs": [
        {
          "output_type": "stream",
          "name": "stdout",
          "text": [
            "Cost:\n",
            " [[35006769.82674039]]\n",
            "Parameters:\n",
            " [[83944.40188836]\n",
            " [31142.37825758]]\n"
          ]
        }
      ]
    },
    {
      "cell_type": "code",
      "source": [
        "n_epochs1 = []\n",
        "jplot1 = []\n",
        "count1 = 0\n",
        "\n",
        "for i in J_all1:\n",
        "\tjplot1.append(i[0][0])\n",
        "\tn_epochs1.append(count1)\n",
        "\tcount1 += 1\n",
        "\n",
        "jplot1 = np.array(jplot1)\n",
        "n_epochs1 = np.array(n_epochs1)\n",
        "\n",
        "mf.plot_cost(jplot1, n_epochs1)"
      ],
      "metadata": {
        "colab": {
          "base_uri": "https://localhost:8080/",
          "height": 290
        },
        "id": "VTXfEdQ4YLm2",
        "outputId": "f6a0f5cb-4842-4a17-f257-d7e11f98bef8"
      },
      "execution_count": 11,
      "outputs": [
        {
          "output_type": "display_data",
          "data": {
            "text/plain": [
              "<Figure size 432x288 with 1 Axes>"
            ],
            "image/png": "[encoded data removed]"
          },
          "metadata": {
            "needs_background": "light"
          }
        }
      ]
    },
    {
      "cell_type": "code",
      "source": [
        "y_pred1 = mf.test(theta1, x, mu, std)\n",
        "\n",
        "plt.xlabel('Experience [Years]')\n",
        "plt.ylabel('Salary')\n",
        "plt.plot(x[:,0], y, 'bo')\n",
        "plt.plot(x[:,0], y_pred1, 'r', linewidth=2.5)\n",
        "\n",
        "plt.show()"
      ],
      "metadata": {
        "colab": {
          "base_uri": "https://localhost:8080/",
          "height": 279
        },
        "id": "-4Qu9EBMUfoK",
        "outputId": "b58152c9-8cd9-4684-d7e5-54ea37526fed"
      },
      "execution_count": 12,
      "outputs": [
        {
          "output_type": "display_data",
          "data": {
            "text/plain": [
              "<Figure size 432x288 with 1 Axes>"
            ],
            "image/png": "[encoded data removed]"
          },
          "metadata": {
            "needs_background": "light"
          }
        }
      ]
    },
    {
      "cell_type": "markdown",
      "source": [
        "### Model 2 using Stochastic Gradient Descent with Momentum"
      ],
      "metadata": {
        "id": "gsu7AUkopo3l"
      }
    },
    {
      "cell_type": "code",
      "source": [
        "theta2, J_all2 = mf.SGDM(x_norm, y_norm, theta, learning_rate, num_epochs, momentum)"
      ],
      "metadata": {
        "id": "0WzfFFaMpo4D"
      },
      "execution_count": 13,
      "outputs": []
    },
    {
      "cell_type": "code",
      "source": [
        "J2 = mf.cost_function(x_norm, y_norm, theta2)\n",
        "print(\"Cost:\\n\", J2)\n",
        "print(\"Parameters:\\n\", theta2)"
      ],
      "metadata": {
        "colab": {
          "base_uri": "https://localhost:8080/"
        },
        "outputId": "f01f9051-005e-4645-a537-765f031bafb3",
        "id": "XHAUyq6mpo4E"
      },
      "execution_count": 14,
      "outputs": [
        {
          "output_type": "stream",
          "name": "stdout",
          "text": [
            "Cost:\n",
            " [[61525115.41127251]]\n",
            "Parameters:\n",
            " [[79117.54412964]\n",
            " [29351.67123321]]\n"
          ]
        }
      ]
    },
    {
      "cell_type": "code",
      "source": [
        "n_epochs2 = []\n",
        "jplot2 = []\n",
        "count2 = 0\n",
        "\n",
        "for i in J_all2:\n",
        "\tjplot2.append(i[0][0])\n",
        "\tn_epochs2.append(count2)\n",
        "\tcount2 += 1\n",
        "\n",
        "jplot2 = np.array(jplot2)\n",
        "n_epochs2 = np.array(n_epochs2)\n",
        "\n",
        "mf.plot_cost(jplot2, n_epochs2)"
      ],
      "metadata": {
        "colab": {
          "base_uri": "https://localhost:8080/",
          "height": 290
        },
        "outputId": "5669dd85-f474-4ae1-ba70-de0e338d6c34",
        "id": "viKX5SmDpo4F"
      },
      "execution_count": 15,
      "outputs": [
        {
          "output_type": "display_data",
          "data": {
            "text/plain": [
              "<Figure size 432x288 with 1 Axes>"
            ],
            "image/png": "[encoded data removed]"
          },
          "metadata": {
            "needs_background": "light"
          }
        }
      ]
    },
    {
      "cell_type": "code",
      "source": [
        "y_pred2 = mf.test(theta2, x, mu, std)\n",
        "\n",
        "plt.xlabel('Experience [Years]')\n",
        "plt.ylabel('Salary')\n",
        "plt.plot(x[:,0], y, 'bo')\n",
        "plt.plot(x[:,0], y_pred2, 'r', linewidth=2.5)\n",
        "\n",
        "plt.show()"
      ],
      "metadata": {
        "colab": {
          "base_uri": "https://localhost:8080/",
          "height": 279
        },
        "outputId": "28fb68a4-958c-4974-9452-4ac9f4f2bb9c",
        "id": "SdAWXHvbpo4G"
      },
      "execution_count": 16,
      "outputs": [
        {
          "output_type": "display_data",
          "data": {
            "text/plain": [
              "<Figure size 432x288 with 1 Axes>"
            ],
            "image/png": "[encoded data removed]"
          },
          "metadata": {
            "needs_background": "light"
          }
        }
      ]
    },
    {
      "cell_type": "markdown",
      "source": [
        "### Model 3 using AdaGrad"
      ],
      "metadata": {
        "id": "aZpfSXapprnt"
      }
    },
    {
      "cell_type": "code",
      "source": [
        "theta3, J_all3 = mf.gradient_descent(x_norm, y_norm, theta, learning_rate, num_epochs)"
      ],
      "metadata": {
        "id": "RpZUIi44prnu"
      },
      "execution_count": 17,
      "outputs": []
    },
    {
      "cell_type": "code",
      "source": [
        "J3 = mf.cost_function(x_norm, y_norm, theta3)\n",
        "print(\"Cost:\\n\", J3)\n",
        "print(\"Parameters:\\n\", theta3)"
      ],
      "metadata": {
        "colab": {
          "base_uri": "https://localhost:8080/"
        },
        "outputId": "32c7a218-ac45-47ec-e803-53bdd879eb6f",
        "id": "CYFSNvipprnv"
      },
      "execution_count": 18,
      "outputs": [
        {
          "output_type": "stream",
          "name": "stdout",
          "text": [
            "Cost:\n",
            " [[35006769.82674039]]\n",
            "Parameters:\n",
            " [[83944.40188836]\n",
            " [31142.37825758]]\n"
          ]
        }
      ]
    },
    {
      "cell_type": "code",
      "source": [
        "n_epochs3 = []\n",
        "jplot3 = []\n",
        "count3 = 0\n",
        "\n",
        "for i in J_all3:\n",
        "\tjplot3.append(i[0][0])\n",
        "\tn_epochs3.append(count3)\n",
        "\tcount3 += 1\n",
        "\n",
        "jplot3 = np.array(jplot3)\n",
        "n_epochs3 = np.array(n_epochs3)\n",
        "\n",
        "mf.plot_cost(jplot3, n_epochs3)"
      ],
      "metadata": {
        "colab": {
          "base_uri": "https://localhost:8080/",
          "height": 290
        },
        "outputId": "1e43134b-14a4-4ab9-a316-2feaa56c5774",
        "id": "U81_djwYprnw"
      },
      "execution_count": 19,
      "outputs": [
        {
          "output_type": "display_data",
          "data": {
            "text/plain": [
              "<Figure size 432x288 with 1 Axes>"
            ],
            "image/png": "[encoded data removed]"
          },
          "metadata": {
            "needs_background": "light"
          }
        }
      ]
    },
    {
      "cell_type": "code",
      "source": [
        "y_pred3 = mf.test(theta3, x, mu, std)\n",
        "\n",
        "plt.xlabel('Experience [Years]')\n",
        "plt.ylabel('Salary')\n",
        "plt.plot(x[:,0], y, 'bo')\n",
        "plt.plot(x[:,0], y_pred3, 'r', linewidth=2.5)\n",
        "\n",
        "plt.show()"
      ],
      "metadata": {
        "colab": {
          "base_uri": "https://localhost:8080/",
          "height": 279
        },
        "outputId": "9e887aab-1d83-4a8d-e63a-3ed6862691dc",
        "id": "Afh6hdH6prnx"
      },
      "execution_count": 20,
      "outputs": [
        {
          "output_type": "display_data",
          "data": {
            "text/plain": [
              "<Figure size 432x288 with 1 Axes>"
            ],
            "image/png": "[encoded data removed]"
          },
          "metadata": {
            "needs_background": "light"
          }
        }
      ]
    },
    {
      "cell_type": "markdown",
      "source": [
        "### Performance Comparison"
      ],
      "metadata": {
        "id": "OR4qum4uqjPf"
      }
    },
    {
      "cell_type": "code",
      "source": [
        "plt.xlabel('Experience [Years]')\n",
        "plt.ylabel('Salary')\n",
        "plt.plot(x[:,0], y, 'yo')\n",
        "plt.plot(x[:,0], y_pred1, 'r', linewidth=2.5)\n",
        "plt.plot(x[:,0], y_pred2, 'g', linewidth=2.5)\n",
        "plt.plot(x[:,0], y_pred3, 'b', linewidth=2.5)\n",
        "plt.legend(('Training data', 'GD', 'SGDM', 'AdaGrad'))\n",
        "plt.show()"
      ],
      "metadata": {
        "colab": {
          "base_uri": "https://localhost:8080/",
          "height": 279
        },
        "id": "lUsWQpVaqnT0",
        "outputId": "fa1fe26e-8ca3-42b8-ac95-37d41dd4f92c"
      },
      "execution_count": 21,
      "outputs": [
        {
          "output_type": "display_data",
          "data": {
            "text/plain": [
              "<Figure size 432x288 with 1 Axes>"
            ],
            "image/png": "[encoded data removed]"
          },
          "metadata": {
            "needs_background": "light"
          }
        }
      ]
    },
    {
      "cell_type": "code",
      "source": [
        "print('Cost Model 1: %.2f\\nCost Model 2: %.2f\\nCost Model 3: %.2f' % (J1,J2,J3))"
      ],
      "metadata": {
        "colab": {
          "base_uri": "https://localhost:8080/"
        },
        "id": "AZGBHF-6s8Te",
        "outputId": "65982f13-74f0-4725-81e2-fefdadc3beee"
      },
      "execution_count": 22,
      "outputs": [
        {
          "output_type": "stream",
          "name": "stdout",
          "text": [
            "Cost Model 1: 35006769.83\n",
            "Cost Model 2: 61525115.41\n",
            "Cost Model 3: 35006769.83\n"
          ]
        }
      ]
    },
    {
      "cell_type": "code",
      "source": [
        "plt.xlabel('Epochs')\n",
        "plt.ylabel('Cost')\n",
        "plt.plot(n_epochs1, jplot1, 'r', linewidth = 1)\n",
        "plt.plot(n_epochs2, jplot2, 'g', linewidth = 1)\n",
        "plt.plot(n_epochs3, jplot3, 'b', linewidth = 1)\n",
        "plt.legend(('GD', 'SGDM', 'AdaGrad'))\n",
        "plt.show()"
      ],
      "metadata": {
        "colab": {
          "base_uri": "https://localhost:8080/",
          "height": 290
        },
        "id": "VXoHTizUt1zF",
        "outputId": "1592f939-bf39-4a30-dece-8e9c8fa83561"
      },
      "execution_count": 23,
      "outputs": [
        {
          "output_type": "display_data",
          "data": {
            "text/plain": [
              "<Figure size 432x288 with 1 Axes>"
            ],
            "image/png": "[encoded data removed]"
          },
          "metadata": {
            "needs_background": "light"
          }
        }
      ]
    }
  ]
}